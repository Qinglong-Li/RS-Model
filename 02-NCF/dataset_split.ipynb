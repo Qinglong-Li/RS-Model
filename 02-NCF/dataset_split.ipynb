{
 "cells": [
  {
   "cell_type": "code",
   "execution_count": 1,
   "metadata": {
    "pycharm": {
     "name": "#%%\n"
    }
   },
   "outputs": [],
   "source": [
    "import pandas as pd\n",
    "from sklearn.model_selection import train_test_split"
   ]
  },
  {
   "cell_type": "markdown",
   "metadata": {},
   "source": [
    "## 데이터 로딩"
   ]
  },
  {
   "cell_type": "code",
   "execution_count": 2,
   "metadata": {
    "pycharm": {
     "name": "#%%\n"
    }
   },
   "outputs": [
    {
     "data": {
      "text/html": [
       "<div>\n",
       "<style scoped>\n",
       "    .dataframe tbody tr th:only-of-type {\n",
       "        vertical-align: middle;\n",
       "    }\n",
       "\n",
       "    .dataframe tbody tr th {\n",
       "        vertical-align: top;\n",
       "    }\n",
       "\n",
       "    .dataframe thead th {\n",
       "        text-align: right;\n",
       "    }\n",
       "</style>\n",
       "<table border=\"1\" class=\"dataframe\">\n",
       "  <thead>\n",
       "    <tr style=\"text-align: right;\">\n",
       "      <th></th>\n",
       "      <th>userId</th>\n",
       "      <th>movieId</th>\n",
       "      <th>rating</th>\n",
       "      <th>timestamp</th>\n",
       "    </tr>\n",
       "  </thead>\n",
       "  <tbody>\n",
       "    <tr>\n",
       "      <th>0</th>\n",
       "      <td>1</td>\n",
       "      <td>31</td>\n",
       "      <td>2.5</td>\n",
       "      <td>1260759144</td>\n",
       "    </tr>\n",
       "    <tr>\n",
       "      <th>1</th>\n",
       "      <td>1</td>\n",
       "      <td>1029</td>\n",
       "      <td>3.0</td>\n",
       "      <td>1260759179</td>\n",
       "    </tr>\n",
       "    <tr>\n",
       "      <th>2</th>\n",
       "      <td>1</td>\n",
       "      <td>1061</td>\n",
       "      <td>3.0</td>\n",
       "      <td>1260759182</td>\n",
       "    </tr>\n",
       "    <tr>\n",
       "      <th>3</th>\n",
       "      <td>1</td>\n",
       "      <td>1129</td>\n",
       "      <td>2.0</td>\n",
       "      <td>1260759185</td>\n",
       "    </tr>\n",
       "    <tr>\n",
       "      <th>4</th>\n",
       "      <td>1</td>\n",
       "      <td>1172</td>\n",
       "      <td>4.0</td>\n",
       "      <td>1260759205</td>\n",
       "    </tr>\n",
       "  </tbody>\n",
       "</table>\n",
       "</div>"
      ],
      "text/plain": [
       "   userId  movieId  rating   timestamp\n",
       "0       1       31     2.5  1260759144\n",
       "1       1     1029     3.0  1260759179\n",
       "2       1     1061     3.0  1260759182\n",
       "3       1     1129     2.0  1260759185\n",
       "4       1     1172     4.0  1260759205"
      ]
     },
     "execution_count": 2,
     "metadata": {},
     "output_type": "execute_result"
    }
   ],
   "source": [
    "df = pd.read_csv(\"ratings.csv\")\n",
    "df.head()"
   ]
  },
  {
   "cell_type": "code",
   "execution_count": 26,
   "metadata": {},
   "outputs": [
    {
     "name": "stdout",
     "output_type": "stream",
     "text": [
      "오리지널 데이터에 user_id = 1인 개수: 20\n"
     ]
    }
   ],
   "source": [
    "print(\"오리지널 데이터에 user_id = 1인 개수:\", df[df[\"userId\"] == 1].shape[0])"
   ]
  },
  {
   "cell_type": "markdown",
   "metadata": {},
   "source": [
    "## 기존 방식으로 분할"
   ]
  },
  {
   "cell_type": "code",
   "execution_count": 21,
   "metadata": {
    "pycharm": {
     "name": "#%%\n"
    }
   },
   "outputs": [
    {
     "name": "stdout",
     "output_type": "stream",
     "text": [
      "트레이닝 데이터에 user_id = 1인 개수: 14\n",
      "테스트 데이터에 user_id = 1인 개수: 6\n"
     ]
    }
   ],
   "source": [
    "train_df, test_df = train_test_split(df, test_size = 0.2)\n",
    "print(\"트레이닝 데이터에 user_id = 1인 개수:\", train_df[train_df[\"userId\"] == 1].shape[0])\n",
    "print(\"테스트 데이터에 user_id = 1인 개수:\", test_df[test_df[\"userId\"] == 1].shape[0])"
   ]
  },
  {
   "cell_type": "code",
   "execution_count": 22,
   "metadata": {},
   "outputs": [
    {
     "name": "stdout",
     "output_type": "stream",
     "text": [
      "트레이닝 데이터에 user_id = 1인 개수: 17\n",
      "테스트 데이터에 user_id = 1인 개수: 3\n"
     ]
    }
   ],
   "source": [
    "## 랜덤으로 반복\n",
    "\n",
    "train_df, test_df = train_test_split(df, test_size = 0.2)\n",
    "print(\"트레이닝 데이터에 user_id = 1인 개수:\", train_df[train_df[\"userId\"] == 1].shape[0])\n",
    "print(\"테스트 데이터에 user_id = 1인 개수:\", test_df[test_df[\"userId\"] == 1].shape[0])"
   ]
  },
  {
   "cell_type": "code",
   "execution_count": 24,
   "metadata": {
    "pycharm": {
     "name": "#%%\n"
    }
   },
   "outputs": [
    {
     "name": "stdout",
     "output_type": "stream",
     "text": [
      "트레이닝 데이터에 user_id = 1인 개수: 18\n",
      "테스트 데이터에 user_id = 1인 개수: 2\n"
     ]
    }
   ],
   "source": [
    "## 랜덤으로 반복\n",
    "\n",
    "train_df, test_df = train_test_split(df, test_size = 0.2)\n",
    "print(\"트레이닝 데이터에 user_id = 1인 개수:\", train_df[train_df[\"userId\"] == 1].shape[0])\n",
    "print(\"테스트 데이터에 user_id = 1인 개수:\", test_df[test_df[\"userId\"] == 1].shape[0])"
   ]
  },
  {
   "cell_type": "markdown",
   "metadata": {
    "pycharm": {
     "name": "#%%\n"
    }
   },
   "source": [
    "## 각 사용자별 비율 지정하는 방식으로 분할"
   ]
  },
  {
   "cell_type": "markdown",
   "metadata": {
    "pycharm": {
     "name": "#%%\n"
    }
   },
   "source": [
    "** stratify 인자에 비율을 분할하고자 하는 class 지정 필요\n",
    "** shuffle 인자는 순서를 랜덤으로 할지 아니면 기존 순서를 기반으로 할지 정하는 것(False이면 기존 순서를  차례대로 분할)"
   ]
  },
  {
   "cell_type": "code",
   "execution_count": 27,
   "metadata": {
    "pycharm": {
     "name": "#%%\n"
    }
   },
   "outputs": [
    {
     "name": "stdout",
     "output_type": "stream",
     "text": [
      "트레이닝 데이터에 user_id = 1인 개수: 16\n",
      "테스트 데이터에 user_id = 1인 개수: 4\n"
     ]
    }
   ],
   "source": [
    "train_df, test_df = train_test_split(df, test_size = 0.2, stratify = df['userId'])\n",
    "print(\"트레이닝 데이터에 user_id = 1인 개수:\", train_df[train_df[\"userId\"] == 1].shape[0])\n",
    "print(\"테스트 데이터에 user_id = 1인 개수:\", test_df[test_df[\"userId\"] == 1].shape[0])"
   ]
  },
  {
   "cell_type": "code",
   "execution_count": 28,
   "metadata": {
    "pycharm": {
     "name": "#%%\n"
    }
   },
   "outputs": [
    {
     "name": "stdout",
     "output_type": "stream",
     "text": [
      "트레이닝 데이터에 user_id = 1인 개수: 16\n",
      "테스트 데이터에 user_id = 1인 개수: 4\n"
     ]
    }
   ],
   "source": [
    "## 랜덤으로 반복\n",
    "\n",
    "train_df, test_df = train_test_split(df, test_size = 0.2, stratify = df['userId'])\n",
    "print(\"트레이닝 데이터에 user_id = 1인 개수:\", train_df[train_df[\"userId\"] == 1].shape[0])\n",
    "print(\"테스트 데이터에 user_id = 1인 개수:\", test_df[test_df[\"userId\"] == 1].shape[0])"
   ]
  },
  {
   "cell_type": "code",
   "execution_count": 29,
   "metadata": {
    "pycharm": {
     "name": "#%%\n"
    }
   },
   "outputs": [
    {
     "name": "stdout",
     "output_type": "stream",
     "text": [
      "트레이닝 데이터에 user_id = 1인 개수: 16\n",
      "테스트 데이터에 user_id = 1인 개수: 4\n"
     ]
    }
   ],
   "source": [
    "## 랜덤으로 반복\n",
    "\n",
    "train_df, test_df = train_test_split(df, test_size = 0.2, stratify = df['userId'])\n",
    "print(\"트레이닝 데이터에 user_id = 1인 개수:\", train_df[train_df[\"userId\"] == 1].shape[0])\n",
    "print(\"테스트 데이터에 user_id = 1인 개수:\", test_df[test_df[\"userId\"] == 1].shape[0])\n"
   ]
  }
 ],
 "metadata": {
  "kernelspec": {
   "display_name": "PyCharm (pythonProject)",
   "language": "python",
   "name": "pycharm-bb025d2e"
  },
  "language_info": {
   "codemirror_mode": {
    "name": "ipython",
    "version": 3
   },
   "file_extension": ".py",
   "mimetype": "text/x-python",
   "name": "python",
   "nbconvert_exporter": "python",
   "pygments_lexer": "ipython3",
   "version": "3.9.5"
  }
 },
 "nbformat": 4,
 "nbformat_minor": 1
}
